{
  "nbformat": 4,
  "nbformat_minor": 0,
  "metadata": {
    "colab": {
      "provenance": [],
      "authorship_tag": "ABX9TyNUfaHxMfEKzJkvYeUWZXMS",
      "include_colab_link": true
    },
    "kernelspec": {
      "name": "python3",
      "display_name": "Python 3"
    },
    "language_info": {
      "name": "python"
    }
  },
  "cells": [
    {
      "cell_type": "markdown",
      "metadata": {
        "id": "view-in-github",
        "colab_type": "text"
      },
      "source": [
        "<a href=\"https://colab.research.google.com/github/yuri98s/Projeto_EBAC_ML/blob/main/Projeto_Parceria_EBAC.ipynb\" target=\"_parent\"><img src=\"https://colab.research.google.com/assets/colab-badge.svg\" alt=\"Open In Colab\"/></a>"
      ]
    },
    {
      "cell_type": "markdown",
      "source": [
        "# **PROJETO PARCERIA EBAC**"
      ],
      "metadata": {
        "id": "1zEQksQu0j4x"
      }
    },
    {
      "cell_type": "markdown",
      "source": [
        "Este notebook foi desenvolvido para fazer análises descritivas utilizando um modelo estatístico e técnicas de modelagem aprendidas ao longo do curso."
      ],
      "metadata": {
        "id": "MdzAtsLD_y-B"
      }
    },
    {
      "cell_type": "markdown",
      "source": [
        "**ANÁLISE DE CREDITO**"
      ],
      "metadata": {
        "id": "ONcuNdgiAZ6O"
      }
    },
    {
      "cell_type": "markdown",
      "source": [
        "O material utilizado é composto por dados de cartões de credito e de seus proprietários.\n",
        "\n",
        "Em nossas análises, iremos criar um modelo para fazer a predição do limite de crédito dos clientes com base em dados como idade, dependentes, escolaridade, renda anual, etc."
      ],
      "metadata": {
        "id": "hjVZ5BZkA7V6"
      }
    },
    {
      "cell_type": "markdown",
      "source": [
        "Base de dados disponibilizada através deste [LINK](https://raw.githubusercontent.com/andre-marcos-perez/ebac-course-utils/main/dataset/credito.csv)"
      ],
      "metadata": {
        "id": "hQxTdc7xikLL"
      }
    },
    {
      "cell_type": "markdown",
      "source": [
        "* **Extração**"
      ],
      "metadata": {
        "id": "FbLBj-AevVQD"
      }
    },
    {
      "cell_type": "code",
      "execution_count": 26,
      "metadata": {
        "id": "P0ER1ShZ0d_o"
      },
      "outputs": [],
      "source": [
        "#pacotes pandas\n",
        "import numpy as np\n",
        "\n",
        "# pacotes ETL\n",
        "import pandas as pd\n",
        "\n",
        "# pacotes ML\n",
        "from sklearn.model_selection import train_test_split\n",
        "from sklearn.pipeline import Pipeline\n",
        "\n",
        "from sklearn.impute import SimpleImputer\n",
        "\n",
        "from sklearn.tree import DecisionTreeClassifier\n",
        "from sklearn.preprocessing import StandardScaler\n",
        "\n",
        "from sklearn.ensemble import RandomForestClassifier\n",
        "\n",
        "from sklearn.metrics import accuracy_score\n",
        "\n",
        "# pacotes gráficos\n",
        "from sklearn.metrics import confusion_matrix\n",
        "import matplotlib.pyplot as plt\n",
        "from sklearn.metrics import ConfusionMatrixDisplay"
      ]
    },
    {
      "cell_type": "markdown",
      "source": [
        "Faremos a extração por um código Bash para download do arquivo para facilitar a extração."
      ],
      "metadata": {
        "id": "l24oxqh45fE3"
      }
    },
    {
      "cell_type": "code",
      "source": [
        "!wget -q 'https://raw.githubusercontent.com/andre-marcos-perez/ebac-course-utils/main/dataset/credito.csv' -O credito.csv"
      ],
      "metadata": {
        "id": "8C5VOnhH3-Fu"
      },
      "execution_count": 2,
      "outputs": []
    },
    {
      "cell_type": "code",
      "source": [
        "dados = pd.read_csv('credito.csv').drop(columns={'id', 'default'})"
      ],
      "metadata": {
        "id": "m5ZFVvf3vZt4"
      },
      "execution_count": 3,
      "outputs": []
    },
    {
      "cell_type": "code",
      "source": [
        "dados.head()"
      ],
      "metadata": {
        "id": "o7fw7DGOOnfD",
        "colab": {
          "base_uri": "https://localhost:8080/",
          "height": 278
        },
        "outputId": "b67f7094-da6b-4080-cad2-828411ab4d79"
      },
      "execution_count": 4,
      "outputs": [
        {
          "output_type": "execute_result",
          "data": {
            "text/plain": [
              "   idade sexo  dependentes         escolaridade estado_civil   salario_anual  \\\n",
              "0     45    M            3         ensino medio       casado     $60K - $80K   \n",
              "1     49    F            5             mestrado     solteiro  menos que $40K   \n",
              "2     51    M            3             mestrado       casado    $80K - $120K   \n",
              "3     40    F            4         ensino medio           na  menos que $40K   \n",
              "4     40    M            3  sem educacao formal       casado     $60K - $80K   \n",
              "\n",
              "  tipo_cartao  meses_de_relacionamento  qtd_produtos  iteracoes_12m  \\\n",
              "0        blue                       39             5              3   \n",
              "1        blue                       44             6              2   \n",
              "2        blue                       36             4              0   \n",
              "3        blue                       34             3              1   \n",
              "4        blue                       21             5              0   \n",
              "\n",
              "   meses_inativo_12m limite_credito valor_transacoes_12m  qtd_transacoes_12m  \n",
              "0                  1      12.691,51             1.144,90                  42  \n",
              "1                  1       8.256,96             1.291,45                  33  \n",
              "2                  1       3.418,56             1.887,72                  20  \n",
              "3                  4       3.313,03             1.171,56                  20  \n",
              "4                  1       4.716,22               816,08                  28  "
            ],
            "text/html": [
              "\n",
              "  <div id=\"df-d9889063-d72a-431b-bd6e-3ed8ef3b09fc\" class=\"colab-df-container\">\n",
              "    <div>\n",
              "<style scoped>\n",
              "    .dataframe tbody tr th:only-of-type {\n",
              "        vertical-align: middle;\n",
              "    }\n",
              "\n",
              "    .dataframe tbody tr th {\n",
              "        vertical-align: top;\n",
              "    }\n",
              "\n",
              "    .dataframe thead th {\n",
              "        text-align: right;\n",
              "    }\n",
              "</style>\n",
              "<table border=\"1\" class=\"dataframe\">\n",
              "  <thead>\n",
              "    <tr style=\"text-align: right;\">\n",
              "      <th></th>\n",
              "      <th>idade</th>\n",
              "      <th>sexo</th>\n",
              "      <th>dependentes</th>\n",
              "      <th>escolaridade</th>\n",
              "      <th>estado_civil</th>\n",
              "      <th>salario_anual</th>\n",
              "      <th>tipo_cartao</th>\n",
              "      <th>meses_de_relacionamento</th>\n",
              "      <th>qtd_produtos</th>\n",
              "      <th>iteracoes_12m</th>\n",
              "      <th>meses_inativo_12m</th>\n",
              "      <th>limite_credito</th>\n",
              "      <th>valor_transacoes_12m</th>\n",
              "      <th>qtd_transacoes_12m</th>\n",
              "    </tr>\n",
              "  </thead>\n",
              "  <tbody>\n",
              "    <tr>\n",
              "      <th>0</th>\n",
              "      <td>45</td>\n",
              "      <td>M</td>\n",
              "      <td>3</td>\n",
              "      <td>ensino medio</td>\n",
              "      <td>casado</td>\n",
              "      <td>$60K - $80K</td>\n",
              "      <td>blue</td>\n",
              "      <td>39</td>\n",
              "      <td>5</td>\n",
              "      <td>3</td>\n",
              "      <td>1</td>\n",
              "      <td>12.691,51</td>\n",
              "      <td>1.144,90</td>\n",
              "      <td>42</td>\n",
              "    </tr>\n",
              "    <tr>\n",
              "      <th>1</th>\n",
              "      <td>49</td>\n",
              "      <td>F</td>\n",
              "      <td>5</td>\n",
              "      <td>mestrado</td>\n",
              "      <td>solteiro</td>\n",
              "      <td>menos que $40K</td>\n",
              "      <td>blue</td>\n",
              "      <td>44</td>\n",
              "      <td>6</td>\n",
              "      <td>2</td>\n",
              "      <td>1</td>\n",
              "      <td>8.256,96</td>\n",
              "      <td>1.291,45</td>\n",
              "      <td>33</td>\n",
              "    </tr>\n",
              "    <tr>\n",
              "      <th>2</th>\n",
              "      <td>51</td>\n",
              "      <td>M</td>\n",
              "      <td>3</td>\n",
              "      <td>mestrado</td>\n",
              "      <td>casado</td>\n",
              "      <td>$80K - $120K</td>\n",
              "      <td>blue</td>\n",
              "      <td>36</td>\n",
              "      <td>4</td>\n",
              "      <td>0</td>\n",
              "      <td>1</td>\n",
              "      <td>3.418,56</td>\n",
              "      <td>1.887,72</td>\n",
              "      <td>20</td>\n",
              "    </tr>\n",
              "    <tr>\n",
              "      <th>3</th>\n",
              "      <td>40</td>\n",
              "      <td>F</td>\n",
              "      <td>4</td>\n",
              "      <td>ensino medio</td>\n",
              "      <td>na</td>\n",
              "      <td>menos que $40K</td>\n",
              "      <td>blue</td>\n",
              "      <td>34</td>\n",
              "      <td>3</td>\n",
              "      <td>1</td>\n",
              "      <td>4</td>\n",
              "      <td>3.313,03</td>\n",
              "      <td>1.171,56</td>\n",
              "      <td>20</td>\n",
              "    </tr>\n",
              "    <tr>\n",
              "      <th>4</th>\n",
              "      <td>40</td>\n",
              "      <td>M</td>\n",
              "      <td>3</td>\n",
              "      <td>sem educacao formal</td>\n",
              "      <td>casado</td>\n",
              "      <td>$60K - $80K</td>\n",
              "      <td>blue</td>\n",
              "      <td>21</td>\n",
              "      <td>5</td>\n",
              "      <td>0</td>\n",
              "      <td>1</td>\n",
              "      <td>4.716,22</td>\n",
              "      <td>816,08</td>\n",
              "      <td>28</td>\n",
              "    </tr>\n",
              "  </tbody>\n",
              "</table>\n",
              "</div>\n",
              "    <div class=\"colab-df-buttons\">\n",
              "\n",
              "  <div class=\"colab-df-container\">\n",
              "    <button class=\"colab-df-convert\" onclick=\"convertToInteractive('df-d9889063-d72a-431b-bd6e-3ed8ef3b09fc')\"\n",
              "            title=\"Convert this dataframe to an interactive table.\"\n",
              "            style=\"display:none;\">\n",
              "\n",
              "  <svg xmlns=\"http://www.w3.org/2000/svg\" height=\"24px\" viewBox=\"0 -960 960 960\">\n",
              "    <path d=\"M120-120v-720h720v720H120Zm60-500h600v-160H180v160Zm220 220h160v-160H400v160Zm0 220h160v-160H400v160ZM180-400h160v-160H180v160Zm440 0h160v-160H620v160ZM180-180h160v-160H180v160Zm440 0h160v-160H620v160Z\"/>\n",
              "  </svg>\n",
              "    </button>\n",
              "\n",
              "  <style>\n",
              "    .colab-df-container {\n",
              "      display:flex;\n",
              "      gap: 12px;\n",
              "    }\n",
              "\n",
              "    .colab-df-convert {\n",
              "      background-color: #E8F0FE;\n",
              "      border: none;\n",
              "      border-radius: 50%;\n",
              "      cursor: pointer;\n",
              "      display: none;\n",
              "      fill: #1967D2;\n",
              "      height: 32px;\n",
              "      padding: 0 0 0 0;\n",
              "      width: 32px;\n",
              "    }\n",
              "\n",
              "    .colab-df-convert:hover {\n",
              "      background-color: #E2EBFA;\n",
              "      box-shadow: 0px 1px 2px rgba(60, 64, 67, 0.3), 0px 1px 3px 1px rgba(60, 64, 67, 0.15);\n",
              "      fill: #174EA6;\n",
              "    }\n",
              "\n",
              "    .colab-df-buttons div {\n",
              "      margin-bottom: 4px;\n",
              "    }\n",
              "\n",
              "    [theme=dark] .colab-df-convert {\n",
              "      background-color: #3B4455;\n",
              "      fill: #D2E3FC;\n",
              "    }\n",
              "\n",
              "    [theme=dark] .colab-df-convert:hover {\n",
              "      background-color: #434B5C;\n",
              "      box-shadow: 0px 1px 3px 1px rgba(0, 0, 0, 0.15);\n",
              "      filter: drop-shadow(0px 1px 2px rgba(0, 0, 0, 0.3));\n",
              "      fill: #FFFFFF;\n",
              "    }\n",
              "  </style>\n",
              "\n",
              "    <script>\n",
              "      const buttonEl =\n",
              "        document.querySelector('#df-d9889063-d72a-431b-bd6e-3ed8ef3b09fc button.colab-df-convert');\n",
              "      buttonEl.style.display =\n",
              "        google.colab.kernel.accessAllowed ? 'block' : 'none';\n",
              "\n",
              "      async function convertToInteractive(key) {\n",
              "        const element = document.querySelector('#df-d9889063-d72a-431b-bd6e-3ed8ef3b09fc');\n",
              "        const dataTable =\n",
              "          await google.colab.kernel.invokeFunction('convertToInteractive',\n",
              "                                                    [key], {});\n",
              "        if (!dataTable) return;\n",
              "\n",
              "        const docLinkHtml = 'Like what you see? Visit the ' +\n",
              "          '<a target=\"_blank\" href=https://colab.research.google.com/notebooks/data_table.ipynb>data table notebook</a>'\n",
              "          + ' to learn more about interactive tables.';\n",
              "        element.innerHTML = '';\n",
              "        dataTable['output_type'] = 'display_data';\n",
              "        await google.colab.output.renderOutput(dataTable, element);\n",
              "        const docLink = document.createElement('div');\n",
              "        docLink.innerHTML = docLinkHtml;\n",
              "        element.appendChild(docLink);\n",
              "      }\n",
              "    </script>\n",
              "  </div>\n",
              "\n",
              "\n",
              "<div id=\"df-1fa75bd6-01d9-4066-ae40-55f86d9590f4\">\n",
              "  <button class=\"colab-df-quickchart\" onclick=\"quickchart('df-1fa75bd6-01d9-4066-ae40-55f86d9590f4')\"\n",
              "            title=\"Suggest charts\"\n",
              "            style=\"display:none;\">\n",
              "\n",
              "<svg xmlns=\"http://www.w3.org/2000/svg\" height=\"24px\"viewBox=\"0 0 24 24\"\n",
              "     width=\"24px\">\n",
              "    <g>\n",
              "        <path d=\"M19 3H5c-1.1 0-2 .9-2 2v14c0 1.1.9 2 2 2h14c1.1 0 2-.9 2-2V5c0-1.1-.9-2-2-2zM9 17H7v-7h2v7zm4 0h-2V7h2v10zm4 0h-2v-4h2v4z\"/>\n",
              "    </g>\n",
              "</svg>\n",
              "  </button>\n",
              "\n",
              "<style>\n",
              "  .colab-df-quickchart {\n",
              "      --bg-color: #E8F0FE;\n",
              "      --fill-color: #1967D2;\n",
              "      --hover-bg-color: #E2EBFA;\n",
              "      --hover-fill-color: #174EA6;\n",
              "      --disabled-fill-color: #AAA;\n",
              "      --disabled-bg-color: #DDD;\n",
              "  }\n",
              "\n",
              "  [theme=dark] .colab-df-quickchart {\n",
              "      --bg-color: #3B4455;\n",
              "      --fill-color: #D2E3FC;\n",
              "      --hover-bg-color: #434B5C;\n",
              "      --hover-fill-color: #FFFFFF;\n",
              "      --disabled-bg-color: #3B4455;\n",
              "      --disabled-fill-color: #666;\n",
              "  }\n",
              "\n",
              "  .colab-df-quickchart {\n",
              "    background-color: var(--bg-color);\n",
              "    border: none;\n",
              "    border-radius: 50%;\n",
              "    cursor: pointer;\n",
              "    display: none;\n",
              "    fill: var(--fill-color);\n",
              "    height: 32px;\n",
              "    padding: 0;\n",
              "    width: 32px;\n",
              "  }\n",
              "\n",
              "  .colab-df-quickchart:hover {\n",
              "    background-color: var(--hover-bg-color);\n",
              "    box-shadow: 0 1px 2px rgba(60, 64, 67, 0.3), 0 1px 3px 1px rgba(60, 64, 67, 0.15);\n",
              "    fill: var(--button-hover-fill-color);\n",
              "  }\n",
              "\n",
              "  .colab-df-quickchart-complete:disabled,\n",
              "  .colab-df-quickchart-complete:disabled:hover {\n",
              "    background-color: var(--disabled-bg-color);\n",
              "    fill: var(--disabled-fill-color);\n",
              "    box-shadow: none;\n",
              "  }\n",
              "\n",
              "  .colab-df-spinner {\n",
              "    border: 2px solid var(--fill-color);\n",
              "    border-color: transparent;\n",
              "    border-bottom-color: var(--fill-color);\n",
              "    animation:\n",
              "      spin 1s steps(1) infinite;\n",
              "  }\n",
              "\n",
              "  @keyframes spin {\n",
              "    0% {\n",
              "      border-color: transparent;\n",
              "      border-bottom-color: var(--fill-color);\n",
              "      border-left-color: var(--fill-color);\n",
              "    }\n",
              "    20% {\n",
              "      border-color: transparent;\n",
              "      border-left-color: var(--fill-color);\n",
              "      border-top-color: var(--fill-color);\n",
              "    }\n",
              "    30% {\n",
              "      border-color: transparent;\n",
              "      border-left-color: var(--fill-color);\n",
              "      border-top-color: var(--fill-color);\n",
              "      border-right-color: var(--fill-color);\n",
              "    }\n",
              "    40% {\n",
              "      border-color: transparent;\n",
              "      border-right-color: var(--fill-color);\n",
              "      border-top-color: var(--fill-color);\n",
              "    }\n",
              "    60% {\n",
              "      border-color: transparent;\n",
              "      border-right-color: var(--fill-color);\n",
              "    }\n",
              "    80% {\n",
              "      border-color: transparent;\n",
              "      border-right-color: var(--fill-color);\n",
              "      border-bottom-color: var(--fill-color);\n",
              "    }\n",
              "    90% {\n",
              "      border-color: transparent;\n",
              "      border-bottom-color: var(--fill-color);\n",
              "    }\n",
              "  }\n",
              "</style>\n",
              "\n",
              "  <script>\n",
              "    async function quickchart(key) {\n",
              "      const quickchartButtonEl =\n",
              "        document.querySelector('#' + key + ' button');\n",
              "      quickchartButtonEl.disabled = true;  // To prevent multiple clicks.\n",
              "      quickchartButtonEl.classList.add('colab-df-spinner');\n",
              "      try {\n",
              "        const charts = await google.colab.kernel.invokeFunction(\n",
              "            'suggestCharts', [key], {});\n",
              "      } catch (error) {\n",
              "        console.error('Error during call to suggestCharts:', error);\n",
              "      }\n",
              "      quickchartButtonEl.classList.remove('colab-df-spinner');\n",
              "      quickchartButtonEl.classList.add('colab-df-quickchart-complete');\n",
              "    }\n",
              "    (() => {\n",
              "      let quickchartButtonEl =\n",
              "        document.querySelector('#df-1fa75bd6-01d9-4066-ae40-55f86d9590f4 button');\n",
              "      quickchartButtonEl.style.display =\n",
              "        google.colab.kernel.accessAllowed ? 'block' : 'none';\n",
              "    })();\n",
              "  </script>\n",
              "</div>\n",
              "\n",
              "    </div>\n",
              "  </div>\n"
            ]
          },
          "metadata": {},
          "execution_count": 4
        }
      ]
    },
    {
      "cell_type": "markdown",
      "source": [
        "* **Tratamento**"
      ],
      "metadata": {
        "id": "JoFLHIbg8r6G"
      }
    },
    {
      "cell_type": "markdown",
      "source": [
        "Aplicando métricas em colunas com atributos numéricos."
      ],
      "metadata": {
        "id": "GlXxlck8LFZe"
      }
    },
    {
      "cell_type": "code",
      "source": [
        "# limite crédito\n",
        "dados['limite_credito'] = dados['limite_credito'].apply(lambda i: str(i).replace(',','')).astype(float)"
      ],
      "metadata": {
        "id": "_3RiYpl_4WN7"
      },
      "execution_count": 5,
      "outputs": []
    },
    {
      "cell_type": "code",
      "source": [
        "credito = []\n",
        "for i in dados['limite_credito']:\n",
        "  if i < 2.00000:\n",
        "    creditos = 'até 2.00000'\n",
        "\n",
        "  elif i < 4.00000:\n",
        "    creditos = 'até 4.00000'\n",
        "\n",
        "  elif i < 6.00000:\n",
        "    creditos = 'até 6.00000'\n",
        "\n",
        "  elif i < 8.00000:\n",
        "    creditos = 'até 8.00000'\n",
        "\n",
        "  elif i < 10.00000:\n",
        "    creditos = 'até 10.00000'\n",
        "\n",
        "  elif i > 10.00000:\n",
        "    creditos = '10.00000 +'\n",
        "  credito.append(creditos)"
      ],
      "metadata": {
        "id": "9KEyRyf93reL"
      },
      "execution_count": 6,
      "outputs": []
    },
    {
      "cell_type": "markdown",
      "source": [
        "Criando e fundindo o data frame label."
      ],
      "metadata": {
        "id": "9hOr0dDW1w2Q"
      }
    },
    {
      "cell_type": "code",
      "source": [
        "dados['credito_mapeado'] = pd.DataFrame(credito)"
      ],
      "metadata": {
        "id": "uDvuURwJm2mM"
      },
      "execution_count": 7,
      "outputs": []
    },
    {
      "cell_type": "markdown",
      "source": [
        "Agora faremos alguns ajustes nas variáveis categóricas para trabalharmos com a biblioteca Scikit Learn com mais facilidade."
      ],
      "metadata": {
        "id": "vBIIPqWXNJvS"
      }
    },
    {
      "cell_type": "code",
      "source": [
        "# sexo\n",
        "dados['sexo_nom'] = np.where(dados['sexo'] == 'M', 1, 0)"
      ],
      "metadata": {
        "id": "kdfigUE7fM1-"
      },
      "execution_count": 8,
      "outputs": []
    },
    {
      "cell_type": "code",
      "source": [
        "# escolaridade\n",
        "escolaridade_mapper = {\n",
        "  'ensino medio':3,\n",
        "  \"mestrado\":5,\n",
        "  \"sem educacao formal\":2,\n",
        "  \"na\":1,\n",
        "  \"graduacao\":4,\n",
        "  \"doutorado\":6\n",
        "}\n",
        "\n",
        "dados['escolaridade_ord'] = dados['escolaridade'].apply(lambda i: escolaridade_mapper[i])"
      ],
      "metadata": {
        "id": "NH8Ab09MFqHn"
      },
      "execution_count": 9,
      "outputs": []
    },
    {
      "cell_type": "code",
      "source": [
        "# crédito\n",
        "credito_mapper ={\n",
        "    'até 2.00000':1,\n",
        "    'até 4.00000':2,\n",
        "    'até 6.00000':3,\n",
        "    'até 8.00000':4,\n",
        "    'até 10.00000':5,\n",
        "    '10.00000 +':6\n",
        "}\n",
        "dados['credito_ord'] = dados['credito_mapeado'].apply(lambda i: credito_mapper[i])"
      ],
      "metadata": {
        "id": "9iEbLrvM46RS"
      },
      "execution_count": 10,
      "outputs": []
    },
    {
      "cell_type": "code",
      "source": [
        "# salário anual\n",
        "salario_mapper = {\n",
        "  \"$60K - $80K\":4,\n",
        "  \"menos que $40K\":2,\n",
        "  \"$80K - $120K\":5,\n",
        "  \"$40K - $60K\":3,\n",
        "  \"$120K +\":6,\n",
        "  \"na\":1\n",
        "}\n",
        "dados['salario_ord'] = dados['salario_anual'].apply(lambda i: salario_mapper[i])"
      ],
      "metadata": {
        "id": "Rwoppou0O4CU"
      },
      "execution_count": 11,
      "outputs": []
    },
    {
      "cell_type": "code",
      "source": [
        "dados.head()"
      ],
      "metadata": {
        "colab": {
          "base_uri": "https://localhost:8080/",
          "height": 278
        },
        "id": "DXVgZ9cXMTrr",
        "outputId": "712d359d-04dc-472b-ca8d-7d7f8484fac0"
      },
      "execution_count": 12,
      "outputs": [
        {
          "output_type": "execute_result",
          "data": {
            "text/plain": [
              "   idade sexo  dependentes         escolaridade estado_civil   salario_anual  \\\n",
              "0     45    M            3         ensino medio       casado     $60K - $80K   \n",
              "1     49    F            5             mestrado     solteiro  menos que $40K   \n",
              "2     51    M            3             mestrado       casado    $80K - $120K   \n",
              "3     40    F            4         ensino medio           na  menos que $40K   \n",
              "4     40    M            3  sem educacao formal       casado     $60K - $80K   \n",
              "\n",
              "  tipo_cartao  meses_de_relacionamento  qtd_produtos  iteracoes_12m  \\\n",
              "0        blue                       39             5              3   \n",
              "1        blue                       44             6              2   \n",
              "2        blue                       36             4              0   \n",
              "3        blue                       34             3              1   \n",
              "4        blue                       21             5              0   \n",
              "\n",
              "   meses_inativo_12m  limite_credito valor_transacoes_12m  qtd_transacoes_12m  \\\n",
              "0                  1        12.69151             1.144,90                  42   \n",
              "1                  1         8.25696             1.291,45                  33   \n",
              "2                  1         3.41856             1.887,72                  20   \n",
              "3                  4         3.31303             1.171,56                  20   \n",
              "4                  1         4.71622               816,08                  28   \n",
              "\n",
              "  credito_mapeado  sexo_nom  escolaridade_ord  credito_ord  salario_ord  \n",
              "0      10.00000 +         1                 3            6            4  \n",
              "1    até 10.00000         0                 5            5            2  \n",
              "2     até 4.00000         1                 5            2            5  \n",
              "3     até 4.00000         0                 3            2            2  \n",
              "4     até 6.00000         1                 2            3            4  "
            ],
            "text/html": [
              "\n",
              "  <div id=\"df-cbdb6fc5-b163-4cad-bff1-dbebd6b02562\" class=\"colab-df-container\">\n",
              "    <div>\n",
              "<style scoped>\n",
              "    .dataframe tbody tr th:only-of-type {\n",
              "        vertical-align: middle;\n",
              "    }\n",
              "\n",
              "    .dataframe tbody tr th {\n",
              "        vertical-align: top;\n",
              "    }\n",
              "\n",
              "    .dataframe thead th {\n",
              "        text-align: right;\n",
              "    }\n",
              "</style>\n",
              "<table border=\"1\" class=\"dataframe\">\n",
              "  <thead>\n",
              "    <tr style=\"text-align: right;\">\n",
              "      <th></th>\n",
              "      <th>idade</th>\n",
              "      <th>sexo</th>\n",
              "      <th>dependentes</th>\n",
              "      <th>escolaridade</th>\n",
              "      <th>estado_civil</th>\n",
              "      <th>salario_anual</th>\n",
              "      <th>tipo_cartao</th>\n",
              "      <th>meses_de_relacionamento</th>\n",
              "      <th>qtd_produtos</th>\n",
              "      <th>iteracoes_12m</th>\n",
              "      <th>meses_inativo_12m</th>\n",
              "      <th>limite_credito</th>\n",
              "      <th>valor_transacoes_12m</th>\n",
              "      <th>qtd_transacoes_12m</th>\n",
              "      <th>credito_mapeado</th>\n",
              "      <th>sexo_nom</th>\n",
              "      <th>escolaridade_ord</th>\n",
              "      <th>credito_ord</th>\n",
              "      <th>salario_ord</th>\n",
              "    </tr>\n",
              "  </thead>\n",
              "  <tbody>\n",
              "    <tr>\n",
              "      <th>0</th>\n",
              "      <td>45</td>\n",
              "      <td>M</td>\n",
              "      <td>3</td>\n",
              "      <td>ensino medio</td>\n",
              "      <td>casado</td>\n",
              "      <td>$60K - $80K</td>\n",
              "      <td>blue</td>\n",
              "      <td>39</td>\n",
              "      <td>5</td>\n",
              "      <td>3</td>\n",
              "      <td>1</td>\n",
              "      <td>12.69151</td>\n",
              "      <td>1.144,90</td>\n",
              "      <td>42</td>\n",
              "      <td>10.00000 +</td>\n",
              "      <td>1</td>\n",
              "      <td>3</td>\n",
              "      <td>6</td>\n",
              "      <td>4</td>\n",
              "    </tr>\n",
              "    <tr>\n",
              "      <th>1</th>\n",
              "      <td>49</td>\n",
              "      <td>F</td>\n",
              "      <td>5</td>\n",
              "      <td>mestrado</td>\n",
              "      <td>solteiro</td>\n",
              "      <td>menos que $40K</td>\n",
              "      <td>blue</td>\n",
              "      <td>44</td>\n",
              "      <td>6</td>\n",
              "      <td>2</td>\n",
              "      <td>1</td>\n",
              "      <td>8.25696</td>\n",
              "      <td>1.291,45</td>\n",
              "      <td>33</td>\n",
              "      <td>até 10.00000</td>\n",
              "      <td>0</td>\n",
              "      <td>5</td>\n",
              "      <td>5</td>\n",
              "      <td>2</td>\n",
              "    </tr>\n",
              "    <tr>\n",
              "      <th>2</th>\n",
              "      <td>51</td>\n",
              "      <td>M</td>\n",
              "      <td>3</td>\n",
              "      <td>mestrado</td>\n",
              "      <td>casado</td>\n",
              "      <td>$80K - $120K</td>\n",
              "      <td>blue</td>\n",
              "      <td>36</td>\n",
              "      <td>4</td>\n",
              "      <td>0</td>\n",
              "      <td>1</td>\n",
              "      <td>3.41856</td>\n",
              "      <td>1.887,72</td>\n",
              "      <td>20</td>\n",
              "      <td>até 4.00000</td>\n",
              "      <td>1</td>\n",
              "      <td>5</td>\n",
              "      <td>2</td>\n",
              "      <td>5</td>\n",
              "    </tr>\n",
              "    <tr>\n",
              "      <th>3</th>\n",
              "      <td>40</td>\n",
              "      <td>F</td>\n",
              "      <td>4</td>\n",
              "      <td>ensino medio</td>\n",
              "      <td>na</td>\n",
              "      <td>menos que $40K</td>\n",
              "      <td>blue</td>\n",
              "      <td>34</td>\n",
              "      <td>3</td>\n",
              "      <td>1</td>\n",
              "      <td>4</td>\n",
              "      <td>3.31303</td>\n",
              "      <td>1.171,56</td>\n",
              "      <td>20</td>\n",
              "      <td>até 4.00000</td>\n",
              "      <td>0</td>\n",
              "      <td>3</td>\n",
              "      <td>2</td>\n",
              "      <td>2</td>\n",
              "    </tr>\n",
              "    <tr>\n",
              "      <th>4</th>\n",
              "      <td>40</td>\n",
              "      <td>M</td>\n",
              "      <td>3</td>\n",
              "      <td>sem educacao formal</td>\n",
              "      <td>casado</td>\n",
              "      <td>$60K - $80K</td>\n",
              "      <td>blue</td>\n",
              "      <td>21</td>\n",
              "      <td>5</td>\n",
              "      <td>0</td>\n",
              "      <td>1</td>\n",
              "      <td>4.71622</td>\n",
              "      <td>816,08</td>\n",
              "      <td>28</td>\n",
              "      <td>até 6.00000</td>\n",
              "      <td>1</td>\n",
              "      <td>2</td>\n",
              "      <td>3</td>\n",
              "      <td>4</td>\n",
              "    </tr>\n",
              "  </tbody>\n",
              "</table>\n",
              "</div>\n",
              "    <div class=\"colab-df-buttons\">\n",
              "\n",
              "  <div class=\"colab-df-container\">\n",
              "    <button class=\"colab-df-convert\" onclick=\"convertToInteractive('df-cbdb6fc5-b163-4cad-bff1-dbebd6b02562')\"\n",
              "            title=\"Convert this dataframe to an interactive table.\"\n",
              "            style=\"display:none;\">\n",
              "\n",
              "  <svg xmlns=\"http://www.w3.org/2000/svg\" height=\"24px\" viewBox=\"0 -960 960 960\">\n",
              "    <path d=\"M120-120v-720h720v720H120Zm60-500h600v-160H180v160Zm220 220h160v-160H400v160Zm0 220h160v-160H400v160ZM180-400h160v-160H180v160Zm440 0h160v-160H620v160ZM180-180h160v-160H180v160Zm440 0h160v-160H620v160Z\"/>\n",
              "  </svg>\n",
              "    </button>\n",
              "\n",
              "  <style>\n",
              "    .colab-df-container {\n",
              "      display:flex;\n",
              "      gap: 12px;\n",
              "    }\n",
              "\n",
              "    .colab-df-convert {\n",
              "      background-color: #E8F0FE;\n",
              "      border: none;\n",
              "      border-radius: 50%;\n",
              "      cursor: pointer;\n",
              "      display: none;\n",
              "      fill: #1967D2;\n",
              "      height: 32px;\n",
              "      padding: 0 0 0 0;\n",
              "      width: 32px;\n",
              "    }\n",
              "\n",
              "    .colab-df-convert:hover {\n",
              "      background-color: #E2EBFA;\n",
              "      box-shadow: 0px 1px 2px rgba(60, 64, 67, 0.3), 0px 1px 3px 1px rgba(60, 64, 67, 0.15);\n",
              "      fill: #174EA6;\n",
              "    }\n",
              "\n",
              "    .colab-df-buttons div {\n",
              "      margin-bottom: 4px;\n",
              "    }\n",
              "\n",
              "    [theme=dark] .colab-df-convert {\n",
              "      background-color: #3B4455;\n",
              "      fill: #D2E3FC;\n",
              "    }\n",
              "\n",
              "    [theme=dark] .colab-df-convert:hover {\n",
              "      background-color: #434B5C;\n",
              "      box-shadow: 0px 1px 3px 1px rgba(0, 0, 0, 0.15);\n",
              "      filter: drop-shadow(0px 1px 2px rgba(0, 0, 0, 0.3));\n",
              "      fill: #FFFFFF;\n",
              "    }\n",
              "  </style>\n",
              "\n",
              "    <script>\n",
              "      const buttonEl =\n",
              "        document.querySelector('#df-cbdb6fc5-b163-4cad-bff1-dbebd6b02562 button.colab-df-convert');\n",
              "      buttonEl.style.display =\n",
              "        google.colab.kernel.accessAllowed ? 'block' : 'none';\n",
              "\n",
              "      async function convertToInteractive(key) {\n",
              "        const element = document.querySelector('#df-cbdb6fc5-b163-4cad-bff1-dbebd6b02562');\n",
              "        const dataTable =\n",
              "          await google.colab.kernel.invokeFunction('convertToInteractive',\n",
              "                                                    [key], {});\n",
              "        if (!dataTable) return;\n",
              "\n",
              "        const docLinkHtml = 'Like what you see? Visit the ' +\n",
              "          '<a target=\"_blank\" href=https://colab.research.google.com/notebooks/data_table.ipynb>data table notebook</a>'\n",
              "          + ' to learn more about interactive tables.';\n",
              "        element.innerHTML = '';\n",
              "        dataTable['output_type'] = 'display_data';\n",
              "        await google.colab.output.renderOutput(dataTable, element);\n",
              "        const docLink = document.createElement('div');\n",
              "        docLink.innerHTML = docLinkHtml;\n",
              "        element.appendChild(docLink);\n",
              "      }\n",
              "    </script>\n",
              "  </div>\n",
              "\n",
              "\n",
              "<div id=\"df-20f53398-1e9f-4ba7-844e-79afd3fd4c89\">\n",
              "  <button class=\"colab-df-quickchart\" onclick=\"quickchart('df-20f53398-1e9f-4ba7-844e-79afd3fd4c89')\"\n",
              "            title=\"Suggest charts\"\n",
              "            style=\"display:none;\">\n",
              "\n",
              "<svg xmlns=\"http://www.w3.org/2000/svg\" height=\"24px\"viewBox=\"0 0 24 24\"\n",
              "     width=\"24px\">\n",
              "    <g>\n",
              "        <path d=\"M19 3H5c-1.1 0-2 .9-2 2v14c0 1.1.9 2 2 2h14c1.1 0 2-.9 2-2V5c0-1.1-.9-2-2-2zM9 17H7v-7h2v7zm4 0h-2V7h2v10zm4 0h-2v-4h2v4z\"/>\n",
              "    </g>\n",
              "</svg>\n",
              "  </button>\n",
              "\n",
              "<style>\n",
              "  .colab-df-quickchart {\n",
              "      --bg-color: #E8F0FE;\n",
              "      --fill-color: #1967D2;\n",
              "      --hover-bg-color: #E2EBFA;\n",
              "      --hover-fill-color: #174EA6;\n",
              "      --disabled-fill-color: #AAA;\n",
              "      --disabled-bg-color: #DDD;\n",
              "  }\n",
              "\n",
              "  [theme=dark] .colab-df-quickchart {\n",
              "      --bg-color: #3B4455;\n",
              "      --fill-color: #D2E3FC;\n",
              "      --hover-bg-color: #434B5C;\n",
              "      --hover-fill-color: #FFFFFF;\n",
              "      --disabled-bg-color: #3B4455;\n",
              "      --disabled-fill-color: #666;\n",
              "  }\n",
              "\n",
              "  .colab-df-quickchart {\n",
              "    background-color: var(--bg-color);\n",
              "    border: none;\n",
              "    border-radius: 50%;\n",
              "    cursor: pointer;\n",
              "    display: none;\n",
              "    fill: var(--fill-color);\n",
              "    height: 32px;\n",
              "    padding: 0;\n",
              "    width: 32px;\n",
              "  }\n",
              "\n",
              "  .colab-df-quickchart:hover {\n",
              "    background-color: var(--hover-bg-color);\n",
              "    box-shadow: 0 1px 2px rgba(60, 64, 67, 0.3), 0 1px 3px 1px rgba(60, 64, 67, 0.15);\n",
              "    fill: var(--button-hover-fill-color);\n",
              "  }\n",
              "\n",
              "  .colab-df-quickchart-complete:disabled,\n",
              "  .colab-df-quickchart-complete:disabled:hover {\n",
              "    background-color: var(--disabled-bg-color);\n",
              "    fill: var(--disabled-fill-color);\n",
              "    box-shadow: none;\n",
              "  }\n",
              "\n",
              "  .colab-df-spinner {\n",
              "    border: 2px solid var(--fill-color);\n",
              "    border-color: transparent;\n",
              "    border-bottom-color: var(--fill-color);\n",
              "    animation:\n",
              "      spin 1s steps(1) infinite;\n",
              "  }\n",
              "\n",
              "  @keyframes spin {\n",
              "    0% {\n",
              "      border-color: transparent;\n",
              "      border-bottom-color: var(--fill-color);\n",
              "      border-left-color: var(--fill-color);\n",
              "    }\n",
              "    20% {\n",
              "      border-color: transparent;\n",
              "      border-left-color: var(--fill-color);\n",
              "      border-top-color: var(--fill-color);\n",
              "    }\n",
              "    30% {\n",
              "      border-color: transparent;\n",
              "      border-left-color: var(--fill-color);\n",
              "      border-top-color: var(--fill-color);\n",
              "      border-right-color: var(--fill-color);\n",
              "    }\n",
              "    40% {\n",
              "      border-color: transparent;\n",
              "      border-right-color: var(--fill-color);\n",
              "      border-top-color: var(--fill-color);\n",
              "    }\n",
              "    60% {\n",
              "      border-color: transparent;\n",
              "      border-right-color: var(--fill-color);\n",
              "    }\n",
              "    80% {\n",
              "      border-color: transparent;\n",
              "      border-right-color: var(--fill-color);\n",
              "      border-bottom-color: var(--fill-color);\n",
              "    }\n",
              "    90% {\n",
              "      border-color: transparent;\n",
              "      border-bottom-color: var(--fill-color);\n",
              "    }\n",
              "  }\n",
              "</style>\n",
              "\n",
              "  <script>\n",
              "    async function quickchart(key) {\n",
              "      const quickchartButtonEl =\n",
              "        document.querySelector('#' + key + ' button');\n",
              "      quickchartButtonEl.disabled = true;  // To prevent multiple clicks.\n",
              "      quickchartButtonEl.classList.add('colab-df-spinner');\n",
              "      try {\n",
              "        const charts = await google.colab.kernel.invokeFunction(\n",
              "            'suggestCharts', [key], {});\n",
              "      } catch (error) {\n",
              "        console.error('Error during call to suggestCharts:', error);\n",
              "      }\n",
              "      quickchartButtonEl.classList.remove('colab-df-spinner');\n",
              "      quickchartButtonEl.classList.add('colab-df-quickchart-complete');\n",
              "    }\n",
              "    (() => {\n",
              "      let quickchartButtonEl =\n",
              "        document.querySelector('#df-20f53398-1e9f-4ba7-844e-79afd3fd4c89 button');\n",
              "      quickchartButtonEl.style.display =\n",
              "        google.colab.kernel.accessAllowed ? 'block' : 'none';\n",
              "    })();\n",
              "  </script>\n",
              "</div>\n",
              "\n",
              "    </div>\n",
              "  </div>\n"
            ]
          },
          "metadata": {},
          "execution_count": 12
        }
      ]
    },
    {
      "cell_type": "markdown",
      "source": [
        "* **Análise**"
      ],
      "metadata": {
        "id": "RirpWL_GwD5i"
      }
    },
    {
      "cell_type": "code",
      "source": [
        "dados_ml = dados[['idade', 'sexo_nom', 'dependentes', 'escolaridade_ord', 'salario_ord','credito_ord','credito_mapeado']].copy()"
      ],
      "metadata": {
        "id": "jvWElJreN2g7"
      },
      "execution_count": 13,
      "outputs": []
    },
    {
      "cell_type": "code",
      "source": [
        "dados_ml.head()"
      ],
      "metadata": {
        "id": "WzYWgcON4Vq7",
        "colab": {
          "base_uri": "https://localhost:8080/",
          "height": 206
        },
        "outputId": "a0d2d00b-5802-48b8-9065-7e94def683ea"
      },
      "execution_count": 14,
      "outputs": [
        {
          "output_type": "execute_result",
          "data": {
            "text/plain": [
              "   idade  sexo_nom  dependentes  escolaridade_ord  salario_ord  credito_ord  \\\n",
              "0     45         1            3                 3            4            6   \n",
              "1     49         0            5                 5            2            5   \n",
              "2     51         1            3                 5            5            2   \n",
              "3     40         0            4                 3            2            2   \n",
              "4     40         1            3                 2            4            3   \n",
              "\n",
              "  credito_mapeado  \n",
              "0      10.00000 +  \n",
              "1    até 10.00000  \n",
              "2     até 4.00000  \n",
              "3     até 4.00000  \n",
              "4     até 6.00000  "
            ],
            "text/html": [
              "\n",
              "  <div id=\"df-7b7fa964-1929-443d-9ff1-8520319adf03\" class=\"colab-df-container\">\n",
              "    <div>\n",
              "<style scoped>\n",
              "    .dataframe tbody tr th:only-of-type {\n",
              "        vertical-align: middle;\n",
              "    }\n",
              "\n",
              "    .dataframe tbody tr th {\n",
              "        vertical-align: top;\n",
              "    }\n",
              "\n",
              "    .dataframe thead th {\n",
              "        text-align: right;\n",
              "    }\n",
              "</style>\n",
              "<table border=\"1\" class=\"dataframe\">\n",
              "  <thead>\n",
              "    <tr style=\"text-align: right;\">\n",
              "      <th></th>\n",
              "      <th>idade</th>\n",
              "      <th>sexo_nom</th>\n",
              "      <th>dependentes</th>\n",
              "      <th>escolaridade_ord</th>\n",
              "      <th>salario_ord</th>\n",
              "      <th>credito_ord</th>\n",
              "      <th>credito_mapeado</th>\n",
              "    </tr>\n",
              "  </thead>\n",
              "  <tbody>\n",
              "    <tr>\n",
              "      <th>0</th>\n",
              "      <td>45</td>\n",
              "      <td>1</td>\n",
              "      <td>3</td>\n",
              "      <td>3</td>\n",
              "      <td>4</td>\n",
              "      <td>6</td>\n",
              "      <td>10.00000 +</td>\n",
              "    </tr>\n",
              "    <tr>\n",
              "      <th>1</th>\n",
              "      <td>49</td>\n",
              "      <td>0</td>\n",
              "      <td>5</td>\n",
              "      <td>5</td>\n",
              "      <td>2</td>\n",
              "      <td>5</td>\n",
              "      <td>até 10.00000</td>\n",
              "    </tr>\n",
              "    <tr>\n",
              "      <th>2</th>\n",
              "      <td>51</td>\n",
              "      <td>1</td>\n",
              "      <td>3</td>\n",
              "      <td>5</td>\n",
              "      <td>5</td>\n",
              "      <td>2</td>\n",
              "      <td>até 4.00000</td>\n",
              "    </tr>\n",
              "    <tr>\n",
              "      <th>3</th>\n",
              "      <td>40</td>\n",
              "      <td>0</td>\n",
              "      <td>4</td>\n",
              "      <td>3</td>\n",
              "      <td>2</td>\n",
              "      <td>2</td>\n",
              "      <td>até 4.00000</td>\n",
              "    </tr>\n",
              "    <tr>\n",
              "      <th>4</th>\n",
              "      <td>40</td>\n",
              "      <td>1</td>\n",
              "      <td>3</td>\n",
              "      <td>2</td>\n",
              "      <td>4</td>\n",
              "      <td>3</td>\n",
              "      <td>até 6.00000</td>\n",
              "    </tr>\n",
              "  </tbody>\n",
              "</table>\n",
              "</div>\n",
              "    <div class=\"colab-df-buttons\">\n",
              "\n",
              "  <div class=\"colab-df-container\">\n",
              "    <button class=\"colab-df-convert\" onclick=\"convertToInteractive('df-7b7fa964-1929-443d-9ff1-8520319adf03')\"\n",
              "            title=\"Convert this dataframe to an interactive table.\"\n",
              "            style=\"display:none;\">\n",
              "\n",
              "  <svg xmlns=\"http://www.w3.org/2000/svg\" height=\"24px\" viewBox=\"0 -960 960 960\">\n",
              "    <path d=\"M120-120v-720h720v720H120Zm60-500h600v-160H180v160Zm220 220h160v-160H400v160Zm0 220h160v-160H400v160ZM180-400h160v-160H180v160Zm440 0h160v-160H620v160ZM180-180h160v-160H180v160Zm440 0h160v-160H620v160Z\"/>\n",
              "  </svg>\n",
              "    </button>\n",
              "\n",
              "  <style>\n",
              "    .colab-df-container {\n",
              "      display:flex;\n",
              "      gap: 12px;\n",
              "    }\n",
              "\n",
              "    .colab-df-convert {\n",
              "      background-color: #E8F0FE;\n",
              "      border: none;\n",
              "      border-radius: 50%;\n",
              "      cursor: pointer;\n",
              "      display: none;\n",
              "      fill: #1967D2;\n",
              "      height: 32px;\n",
              "      padding: 0 0 0 0;\n",
              "      width: 32px;\n",
              "    }\n",
              "\n",
              "    .colab-df-convert:hover {\n",
              "      background-color: #E2EBFA;\n",
              "      box-shadow: 0px 1px 2px rgba(60, 64, 67, 0.3), 0px 1px 3px 1px rgba(60, 64, 67, 0.15);\n",
              "      fill: #174EA6;\n",
              "    }\n",
              "\n",
              "    .colab-df-buttons div {\n",
              "      margin-bottom: 4px;\n",
              "    }\n",
              "\n",
              "    [theme=dark] .colab-df-convert {\n",
              "      background-color: #3B4455;\n",
              "      fill: #D2E3FC;\n",
              "    }\n",
              "\n",
              "    [theme=dark] .colab-df-convert:hover {\n",
              "      background-color: #434B5C;\n",
              "      box-shadow: 0px 1px 3px 1px rgba(0, 0, 0, 0.15);\n",
              "      filter: drop-shadow(0px 1px 2px rgba(0, 0, 0, 0.3));\n",
              "      fill: #FFFFFF;\n",
              "    }\n",
              "  </style>\n",
              "\n",
              "    <script>\n",
              "      const buttonEl =\n",
              "        document.querySelector('#df-7b7fa964-1929-443d-9ff1-8520319adf03 button.colab-df-convert');\n",
              "      buttonEl.style.display =\n",
              "        google.colab.kernel.accessAllowed ? 'block' : 'none';\n",
              "\n",
              "      async function convertToInteractive(key) {\n",
              "        const element = document.querySelector('#df-7b7fa964-1929-443d-9ff1-8520319adf03');\n",
              "        const dataTable =\n",
              "          await google.colab.kernel.invokeFunction('convertToInteractive',\n",
              "                                                    [key], {});\n",
              "        if (!dataTable) return;\n",
              "\n",
              "        const docLinkHtml = 'Like what you see? Visit the ' +\n",
              "          '<a target=\"_blank\" href=https://colab.research.google.com/notebooks/data_table.ipynb>data table notebook</a>'\n",
              "          + ' to learn more about interactive tables.';\n",
              "        element.innerHTML = '';\n",
              "        dataTable['output_type'] = 'display_data';\n",
              "        await google.colab.output.renderOutput(dataTable, element);\n",
              "        const docLink = document.createElement('div');\n",
              "        docLink.innerHTML = docLinkHtml;\n",
              "        element.appendChild(docLink);\n",
              "      }\n",
              "    </script>\n",
              "  </div>\n",
              "\n",
              "\n",
              "<div id=\"df-0b6c6db8-7669-4f22-9ece-e4bd53426f15\">\n",
              "  <button class=\"colab-df-quickchart\" onclick=\"quickchart('df-0b6c6db8-7669-4f22-9ece-e4bd53426f15')\"\n",
              "            title=\"Suggest charts\"\n",
              "            style=\"display:none;\">\n",
              "\n",
              "<svg xmlns=\"http://www.w3.org/2000/svg\" height=\"24px\"viewBox=\"0 0 24 24\"\n",
              "     width=\"24px\">\n",
              "    <g>\n",
              "        <path d=\"M19 3H5c-1.1 0-2 .9-2 2v14c0 1.1.9 2 2 2h14c1.1 0 2-.9 2-2V5c0-1.1-.9-2-2-2zM9 17H7v-7h2v7zm4 0h-2V7h2v10zm4 0h-2v-4h2v4z\"/>\n",
              "    </g>\n",
              "</svg>\n",
              "  </button>\n",
              "\n",
              "<style>\n",
              "  .colab-df-quickchart {\n",
              "      --bg-color: #E8F0FE;\n",
              "      --fill-color: #1967D2;\n",
              "      --hover-bg-color: #E2EBFA;\n",
              "      --hover-fill-color: #174EA6;\n",
              "      --disabled-fill-color: #AAA;\n",
              "      --disabled-bg-color: #DDD;\n",
              "  }\n",
              "\n",
              "  [theme=dark] .colab-df-quickchart {\n",
              "      --bg-color: #3B4455;\n",
              "      --fill-color: #D2E3FC;\n",
              "      --hover-bg-color: #434B5C;\n",
              "      --hover-fill-color: #FFFFFF;\n",
              "      --disabled-bg-color: #3B4455;\n",
              "      --disabled-fill-color: #666;\n",
              "  }\n",
              "\n",
              "  .colab-df-quickchart {\n",
              "    background-color: var(--bg-color);\n",
              "    border: none;\n",
              "    border-radius: 50%;\n",
              "    cursor: pointer;\n",
              "    display: none;\n",
              "    fill: var(--fill-color);\n",
              "    height: 32px;\n",
              "    padding: 0;\n",
              "    width: 32px;\n",
              "  }\n",
              "\n",
              "  .colab-df-quickchart:hover {\n",
              "    background-color: var(--hover-bg-color);\n",
              "    box-shadow: 0 1px 2px rgba(60, 64, 67, 0.3), 0 1px 3px 1px rgba(60, 64, 67, 0.15);\n",
              "    fill: var(--button-hover-fill-color);\n",
              "  }\n",
              "\n",
              "  .colab-df-quickchart-complete:disabled,\n",
              "  .colab-df-quickchart-complete:disabled:hover {\n",
              "    background-color: var(--disabled-bg-color);\n",
              "    fill: var(--disabled-fill-color);\n",
              "    box-shadow: none;\n",
              "  }\n",
              "\n",
              "  .colab-df-spinner {\n",
              "    border: 2px solid var(--fill-color);\n",
              "    border-color: transparent;\n",
              "    border-bottom-color: var(--fill-color);\n",
              "    animation:\n",
              "      spin 1s steps(1) infinite;\n",
              "  }\n",
              "\n",
              "  @keyframes spin {\n",
              "    0% {\n",
              "      border-color: transparent;\n",
              "      border-bottom-color: var(--fill-color);\n",
              "      border-left-color: var(--fill-color);\n",
              "    }\n",
              "    20% {\n",
              "      border-color: transparent;\n",
              "      border-left-color: var(--fill-color);\n",
              "      border-top-color: var(--fill-color);\n",
              "    }\n",
              "    30% {\n",
              "      border-color: transparent;\n",
              "      border-left-color: var(--fill-color);\n",
              "      border-top-color: var(--fill-color);\n",
              "      border-right-color: var(--fill-color);\n",
              "    }\n",
              "    40% {\n",
              "      border-color: transparent;\n",
              "      border-right-color: var(--fill-color);\n",
              "      border-top-color: var(--fill-color);\n",
              "    }\n",
              "    60% {\n",
              "      border-color: transparent;\n",
              "      border-right-color: var(--fill-color);\n",
              "    }\n",
              "    80% {\n",
              "      border-color: transparent;\n",
              "      border-right-color: var(--fill-color);\n",
              "      border-bottom-color: var(--fill-color);\n",
              "    }\n",
              "    90% {\n",
              "      border-color: transparent;\n",
              "      border-bottom-color: var(--fill-color);\n",
              "    }\n",
              "  }\n",
              "</style>\n",
              "\n",
              "  <script>\n",
              "    async function quickchart(key) {\n",
              "      const quickchartButtonEl =\n",
              "        document.querySelector('#' + key + ' button');\n",
              "      quickchartButtonEl.disabled = true;  // To prevent multiple clicks.\n",
              "      quickchartButtonEl.classList.add('colab-df-spinner');\n",
              "      try {\n",
              "        const charts = await google.colab.kernel.invokeFunction(\n",
              "            'suggestCharts', [key], {});\n",
              "      } catch (error) {\n",
              "        console.error('Error during call to suggestCharts:', error);\n",
              "      }\n",
              "      quickchartButtonEl.classList.remove('colab-df-spinner');\n",
              "      quickchartButtonEl.classList.add('colab-df-quickchart-complete');\n",
              "    }\n",
              "    (() => {\n",
              "      let quickchartButtonEl =\n",
              "        document.querySelector('#df-0b6c6db8-7669-4f22-9ece-e4bd53426f15 button');\n",
              "      quickchartButtonEl.style.display =\n",
              "        google.colab.kernel.accessAllowed ? 'block' : 'none';\n",
              "    })();\n",
              "  </script>\n",
              "</div>\n",
              "\n",
              "    </div>\n",
              "  </div>\n"
            ]
          },
          "metadata": {},
          "execution_count": 14
        }
      ]
    },
    {
      "cell_type": "code",
      "source": [
        "features = dados[['idade', 'sexo_nom', 'dependentes', 'escolaridade_ord','salario_ord','credito_ord']]\n",
        "labels = dados['credito_mapeado']"
      ],
      "metadata": {
        "id": "Opn75mSuVj0N"
      },
      "execution_count": 15,
      "outputs": []
    },
    {
      "cell_type": "markdown",
      "source": [
        "Dividir base de dados em treino e teste"
      ],
      "metadata": {
        "id": "fpmKfHeaV_nw"
      }
    },
    {
      "cell_type": "code",
      "source": [
        "X_train, X_test, y_train, y_test = train_test_split(\n",
        "    features, labels, test_size=0.3, random_state=0\n",
        ")"
      ],
      "metadata": {
        "id": "PVfGFDum7x_a"
      },
      "execution_count": 16,
      "outputs": []
    },
    {
      "cell_type": "markdown",
      "source": [
        "Criando modelos"
      ],
      "metadata": {
        "id": "CarzxGTReBYq"
      }
    },
    {
      "cell_type": "code",
      "source": [
        "# DecisionTreeClassifier() & StandardScaler()\n",
        "\n",
        "pipe = Pipeline([('scaler', StandardScaler()),\n",
        "                 ('imputer', SimpleImputer(strategy='median')),\n",
        "                 ('modelo_class', DecisionTreeClassifier())])"
      ],
      "metadata": {
        "id": "Yhvx39TReT9l"
      },
      "execution_count": 17,
      "outputs": []
    },
    {
      "cell_type": "code",
      "source": [
        "arvore = RandomForestClassifier()\n",
        "arvore.fit(X_train, y_train)\n",
        "previsao_arvore = arvore.predict(X_test)"
      ],
      "metadata": {
        "id": "lV5Osgzhylv0"
      },
      "execution_count": 18,
      "outputs": []
    },
    {
      "cell_type": "markdown",
      "source": [
        "* **Avaliação**"
      ],
      "metadata": {
        "id": "YTVdZ93OW_Ma"
      }
    },
    {
      "cell_type": "markdown",
      "source": [
        "Testando a Acuracidade"
      ],
      "metadata": {
        "id": "0iNQvlGc0BXo"
      }
    },
    {
      "cell_type": "code",
      "source": [
        "pipe.fit(X_train, y_train)\n",
        "pipe.score(X_test, y_test)"
      ],
      "metadata": {
        "id": "-1yoruFMelrM",
        "colab": {
          "base_uri": "https://localhost:8080/"
        },
        "outputId": "000b3c28-9933-4b73-8b1a-423908e2c958"
      },
      "execution_count": 42,
      "outputs": [
        {
          "output_type": "execute_result",
          "data": {
            "text/plain": [
              "1.0"
            ]
          },
          "metadata": {},
          "execution_count": 42
        }
      ]
    },
    {
      "cell_type": "code",
      "source": [
        "print(accuracy_score(y_test, previsao_arvore))"
      ],
      "metadata": {
        "colab": {
          "base_uri": "https://localhost:8080/"
        },
        "id": "aJc8kvw30-hP",
        "outputId": "126c4b3b-9a52-485b-bfbb-5830ae8a45d3"
      },
      "execution_count": 20,
      "outputs": [
        {
          "output_type": "stream",
          "name": "stdout",
          "text": [
            "0.9993418887792037\n"
          ]
        }
      ]
    },
    {
      "cell_type": "markdown",
      "source": [
        "\n",
        "\n",
        "Ambos os modelos apresentaram ótimo desempenho, então vamos comparar nossa predição com os dados de testes\n",
        "\n"
      ],
      "metadata": {
        "id": "rngGUWSSz-ta"
      }
    },
    {
      "cell_type": "code",
      "source": [
        "# predição\n",
        "predicao = arvore.predict(X_test)\n",
        "predicao[0:5]"
      ],
      "metadata": {
        "colab": {
          "base_uri": "https://localhost:8080/"
        },
        "id": "bM4Dq4swe2wO",
        "outputId": "a79a972d-8573-4c74-d877-8be6bf407ad0"
      },
      "execution_count": 41,
      "outputs": [
        {
          "output_type": "execute_result",
          "data": {
            "text/plain": [
              "array(['10.00000 +', '10.00000 +', 'até 4.00000', 'até 4.00000',\n",
              "       'até 4.00000'], dtype=object)"
            ]
          },
          "metadata": {},
          "execution_count": 41
        }
      ]
    },
    {
      "cell_type": "code",
      "source": [
        "# dados de teste\n",
        "y_test[0:5]"
      ],
      "metadata": {
        "colab": {
          "base_uri": "https://localhost:8080/"
        },
        "id": "gkXQiQkdXXfc",
        "outputId": "4b6b0139-9a80-4684-dea4-61f6e3a6e345"
      },
      "execution_count": 23,
      "outputs": [
        {
          "output_type": "execute_result",
          "data": {
            "text/plain": [
              "3358     10.00000 +\n",
              "9951     10.00000 +\n",
              "3848    até 4.00000\n",
              "1666    até 4.00000\n",
              "8383    até 4.00000\n",
              "Name: credito_mapeado, dtype: object"
            ]
          },
          "metadata": {},
          "execution_count": 23
        }
      ]
    },
    {
      "cell_type": "markdown",
      "source": [
        "* **Visualização**"
      ],
      "metadata": {
        "id": "QqThA1Aic68w"
      }
    },
    {
      "cell_type": "markdown",
      "source": [
        "Matriz de Confusão"
      ],
      "metadata": {
        "id": "ymqjA2JGdIK0"
      }
    },
    {
      "cell_type": "code",
      "source": [
        "confusion_matrix = confusion_matrix(predicao, y_test)\n",
        "print(confusion_matrix)"
      ],
      "metadata": {
        "colab": {
          "base_uri": "https://localhost:8080/"
        },
        "id": "2lUPG_MzdByk",
        "outputId": "f9f6e30e-0d00-4bd5-bde8-83997eb298eb"
      },
      "execution_count": 28,
      "outputs": [
        {
          "output_type": "stream",
          "name": "stdout",
          "text": [
            "[[ 817    0    0    0    0    0]\n",
            " [   0  208    0    0    0    0]\n",
            " [   0    0  428    0    0    0]\n",
            " [   0    0    0 1001    0    0]\n",
            " [   0    0    0    0  353    0]\n",
            " [   0    2    0    0    0  230]]\n"
          ]
        }
      ]
    },
    {
      "cell_type": "markdown",
      "source": [
        "Martiz de Confusão com mapa de calor"
      ],
      "metadata": {
        "id": "3W9HC1lWfykb"
      }
    },
    {
      "cell_type": "code",
      "source": [
        "disp = ConfusionMatrixDisplay(confusion_matrix = confusion_matrix)\n",
        "disp.plot()\n",
        "plt.show()"
      ],
      "metadata": {
        "colab": {
          "base_uri": "https://localhost:8080/",
          "height": 455
        },
        "id": "IT096F2uf5rh",
        "outputId": "b49c86c5-1bf0-471b-f266-f8caabcac68f"
      },
      "execution_count": 43,
      "outputs": [
        {
          "output_type": "display_data",
          "data": {
            "text/plain": [
              "<Figure size 640x480 with 2 Axes>"
            ],
            "image/png": "[encoded data removed]"
          },
          "metadata": {}
        }
      ]
    }
  ]
}